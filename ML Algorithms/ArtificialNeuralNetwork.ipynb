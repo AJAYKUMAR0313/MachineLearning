{
 "cells": [
  {
   "cell_type": "code",
   "execution_count": 1,
   "id": "c282158b",
   "metadata": {},
   "outputs": [
    {
     "name": "stdout",
     "output_type": "stream",
     "text": [
      "Requirement already satisfied: tensorflow in c:\\users\\kkaja\\anaconda3\\lib\\site-packages (2.16.2)\n",
      "Requirement already satisfied: tensorflow-intel==2.16.2 in c:\\users\\kkaja\\anaconda3\\lib\\site-packages (from tensorflow) (2.16.2)\n",
      "Requirement already satisfied: absl-py>=1.0.0 in c:\\users\\kkaja\\anaconda3\\lib\\site-packages (from tensorflow-intel==2.16.2->tensorflow) (2.1.0)\n",
      "Requirement already satisfied: astunparse>=1.6.0 in c:\\users\\kkaja\\anaconda3\\lib\\site-packages (from tensorflow-intel==2.16.2->tensorflow) (1.6.3)\n",
      "Requirement already satisfied: flatbuffers>=23.5.26 in c:\\users\\kkaja\\anaconda3\\lib\\site-packages (from tensorflow-intel==2.16.2->tensorflow) (24.3.25)\n",
      "Requirement already satisfied: gast!=0.5.0,!=0.5.1,!=0.5.2,>=0.2.1 in c:\\users\\kkaja\\anaconda3\\lib\\site-packages (from tensorflow-intel==2.16.2->tensorflow) (0.6.0)\n",
      "Requirement already satisfied: google-pasta>=0.1.1 in c:\\users\\kkaja\\anaconda3\\lib\\site-packages (from tensorflow-intel==2.16.2->tensorflow) (0.2.0)\n",
      "Requirement already satisfied: h5py>=3.10.0 in c:\\users\\kkaja\\anaconda3\\lib\\site-packages (from tensorflow-intel==2.16.2->tensorflow) (3.11.0)\n",
      "Requirement already satisfied: libclang>=13.0.0 in c:\\users\\kkaja\\anaconda3\\lib\\site-packages (from tensorflow-intel==2.16.2->tensorflow) (18.1.1)\n",
      "Requirement already satisfied: ml-dtypes~=0.3.1 in c:\\users\\kkaja\\anaconda3\\lib\\site-packages (from tensorflow-intel==2.16.2->tensorflow) (0.3.2)\n",
      "Requirement already satisfied: opt-einsum>=2.3.2 in c:\\users\\kkaja\\anaconda3\\lib\\site-packages (from tensorflow-intel==2.16.2->tensorflow) (3.3.0)\n",
      "Requirement already satisfied: packaging in c:\\users\\kkaja\\anaconda3\\lib\\site-packages (from tensorflow-intel==2.16.2->tensorflow) (23.1)\n",
      "Requirement already satisfied: protobuf!=4.21.0,!=4.21.1,!=4.21.2,!=4.21.3,!=4.21.4,!=4.21.5,<5.0.0dev,>=3.20.3 in c:\\users\\kkaja\\anaconda3\\lib\\site-packages (from tensorflow-intel==2.16.2->tensorflow) (3.20.3)\n",
      "Requirement already satisfied: requests<3,>=2.21.0 in c:\\users\\kkaja\\anaconda3\\lib\\site-packages (from tensorflow-intel==2.16.2->tensorflow) (2.31.0)\n",
      "Requirement already satisfied: setuptools in c:\\users\\kkaja\\anaconda3\\lib\\site-packages (from tensorflow-intel==2.16.2->tensorflow) (68.2.2)\n",
      "Requirement already satisfied: six>=1.12.0 in c:\\users\\kkaja\\anaconda3\\lib\\site-packages (from tensorflow-intel==2.16.2->tensorflow) (1.16.0)\n",
      "Requirement already satisfied: termcolor>=1.1.0 in c:\\users\\kkaja\\anaconda3\\lib\\site-packages (from tensorflow-intel==2.16.2->tensorflow) (2.4.0)\n",
      "Requirement already satisfied: typing-extensions>=3.6.6 in c:\\users\\kkaja\\anaconda3\\lib\\site-packages (from tensorflow-intel==2.16.2->tensorflow) (4.9.0)\n",
      "Requirement already satisfied: wrapt>=1.11.0 in c:\\users\\kkaja\\anaconda3\\lib\\site-packages (from tensorflow-intel==2.16.2->tensorflow) (1.14.1)\n",
      "Requirement already satisfied: grpcio<2.0,>=1.24.3 in c:\\users\\kkaja\\anaconda3\\lib\\site-packages (from tensorflow-intel==2.16.2->tensorflow) (1.64.1)\n",
      "Requirement already satisfied: tensorboard<2.17,>=2.16 in c:\\users\\kkaja\\anaconda3\\lib\\site-packages (from tensorflow-intel==2.16.2->tensorflow) (2.16.2)\n",
      "Requirement already satisfied: keras>=3.0.0 in c:\\users\\kkaja\\anaconda3\\lib\\site-packages (from tensorflow-intel==2.16.2->tensorflow) (3.4.1)\n",
      "Requirement already satisfied: tensorflow-io-gcs-filesystem>=0.23.1 in c:\\users\\kkaja\\anaconda3\\lib\\site-packages (from tensorflow-intel==2.16.2->tensorflow) (0.31.0)\n",
      "Requirement already satisfied: numpy<2.0.0,>=1.23.5 in c:\\users\\kkaja\\anaconda3\\lib\\site-packages (from tensorflow-intel==2.16.2->tensorflow) (1.26.4)\n",
      "Requirement already satisfied: wheel<1.0,>=0.23.0 in c:\\users\\kkaja\\anaconda3\\lib\\site-packages (from astunparse>=1.6.0->tensorflow-intel==2.16.2->tensorflow) (0.41.2)\n",
      "Requirement already satisfied: rich in c:\\users\\kkaja\\anaconda3\\lib\\site-packages (from keras>=3.0.0->tensorflow-intel==2.16.2->tensorflow) (13.3.5)\n",
      "Requirement already satisfied: namex in c:\\users\\kkaja\\anaconda3\\lib\\site-packages (from keras>=3.0.0->tensorflow-intel==2.16.2->tensorflow) (0.0.8)\n",
      "Requirement already satisfied: optree in c:\\users\\kkaja\\anaconda3\\lib\\site-packages (from keras>=3.0.0->tensorflow-intel==2.16.2->tensorflow) (0.11.0)\n",
      "Requirement already satisfied: charset-normalizer<4,>=2 in c:\\users\\kkaja\\anaconda3\\lib\\site-packages (from requests<3,>=2.21.0->tensorflow-intel==2.16.2->tensorflow) (2.0.4)\n",
      "Requirement already satisfied: idna<4,>=2.5 in c:\\users\\kkaja\\anaconda3\\lib\\site-packages (from requests<3,>=2.21.0->tensorflow-intel==2.16.2->tensorflow) (3.4)\n",
      "Requirement already satisfied: urllib3<3,>=1.21.1 in c:\\users\\kkaja\\anaconda3\\lib\\site-packages (from requests<3,>=2.21.0->tensorflow-intel==2.16.2->tensorflow) (2.0.7)\n",
      "Requirement already satisfied: certifi>=2017.4.17 in c:\\users\\kkaja\\anaconda3\\lib\\site-packages (from requests<3,>=2.21.0->tensorflow-intel==2.16.2->tensorflow) (2024.7.4)\n",
      "Requirement already satisfied: markdown>=2.6.8 in c:\\users\\kkaja\\anaconda3\\lib\\site-packages (from tensorboard<2.17,>=2.16->tensorflow-intel==2.16.2->tensorflow) (3.4.1)\n",
      "Requirement already satisfied: tensorboard-data-server<0.8.0,>=0.7.0 in c:\\users\\kkaja\\anaconda3\\lib\\site-packages (from tensorboard<2.17,>=2.16->tensorflow-intel==2.16.2->tensorflow) (0.7.2)\n",
      "Requirement already satisfied: werkzeug>=1.0.1 in c:\\users\\kkaja\\anaconda3\\lib\\site-packages (from tensorboard<2.17,>=2.16->tensorflow-intel==2.16.2->tensorflow) (2.2.3)\n",
      "Requirement already satisfied: MarkupSafe>=2.1.1 in c:\\users\\kkaja\\anaconda3\\lib\\site-packages (from werkzeug>=1.0.1->tensorboard<2.17,>=2.16->tensorflow-intel==2.16.2->tensorflow) (2.1.3)\n",
      "Requirement already satisfied: markdown-it-py<3.0.0,>=2.2.0 in c:\\users\\kkaja\\anaconda3\\lib\\site-packages (from rich->keras>=3.0.0->tensorflow-intel==2.16.2->tensorflow) (2.2.0)\n",
      "Requirement already satisfied: pygments<3.0.0,>=2.13.0 in c:\\users\\kkaja\\anaconda3\\lib\\site-packages (from rich->keras>=3.0.0->tensorflow-intel==2.16.2->tensorflow) (2.15.1)\n",
      "Requirement already satisfied: mdurl~=0.1 in c:\\users\\kkaja\\anaconda3\\lib\\site-packages (from markdown-it-py<3.0.0,>=2.2.0->rich->keras>=3.0.0->tensorflow-intel==2.16.2->tensorflow) (0.1.0)\n",
      "Note: you may need to restart the kernel to use updated packages.\n"
     ]
    }
   ],
   "source": [
    "pip install tensorflow"
   ]
  },
  {
   "cell_type": "code",
   "execution_count": 2,
   "id": "f65e2da0",
   "metadata": {},
   "outputs": [],
   "source": [
    "import pandas as pd"
   ]
  },
  {
   "cell_type": "code",
   "execution_count": 3,
   "id": "a16654cc",
   "metadata": {},
   "outputs": [],
   "source": [
    "import numpy as np"
   ]
  },
  {
   "cell_type": "code",
   "execution_count": 4,
   "id": "41b467ef",
   "metadata": {},
   "outputs": [],
   "source": [
    "import matplotlib.pyplot as plt"
   ]
  },
  {
   "cell_type": "code",
   "execution_count": 5,
   "id": "e3571fd5",
   "metadata": {},
   "outputs": [],
   "source": [
    "import sklearn"
   ]
  },
  {
   "cell_type": "code",
   "execution_count": 6,
   "id": "0a4f89b3",
   "metadata": {},
   "outputs": [],
   "source": [
    "from sklearn.datasets import load_iris"
   ]
  },
  {
   "cell_type": "code",
   "execution_count": 7,
   "id": "66284966",
   "metadata": {},
   "outputs": [],
   "source": [
    "import keras"
   ]
  },
  {
   "cell_type": "code",
   "execution_count": 8,
   "id": "bc1117c0",
   "metadata": {},
   "outputs": [],
   "source": [
    "import tensorflow as tf"
   ]
  },
  {
   "cell_type": "code",
   "execution_count": 9,
   "id": "da272bf5",
   "metadata": {},
   "outputs": [],
   "source": [
    "from keras.models import Sequential"
   ]
  },
  {
   "cell_type": "code",
   "execution_count": 10,
   "id": "b318417d",
   "metadata": {},
   "outputs": [],
   "source": [
    "from keras.layers import Dense"
   ]
  },
  {
   "cell_type": "code",
   "execution_count": 11,
   "id": "8d221a44",
   "metadata": {},
   "outputs": [],
   "source": [
    "from keras.optimizers import Adam"
   ]
  },
  {
   "cell_type": "code",
   "execution_count": 12,
   "id": "518d2850",
   "metadata": {},
   "outputs": [],
   "source": [
    "from keras.utils import to_categorical"
   ]
  },
  {
   "cell_type": "code",
   "execution_count": 13,
   "id": "3bfdc620",
   "metadata": {},
   "outputs": [],
   "source": [
    "iris=load_iris()"
   ]
  },
  {
   "cell_type": "code",
   "execution_count": 14,
   "id": "51d10f34",
   "metadata": {},
   "outputs": [],
   "source": [
    "data=pd.DataFrame(iris.data,columns=iris.feature_names)"
   ]
  },
  {
   "cell_type": "code",
   "execution_count": 15,
   "id": "153e0861",
   "metadata": {},
   "outputs": [],
   "source": [
    "data['target']=iris.target.reshape(-1,1)"
   ]
  },
  {
   "cell_type": "code",
   "execution_count": 16,
   "id": "09ce4e24",
   "metadata": {},
   "outputs": [],
   "source": [
    "x=data.drop('target',axis=1)"
   ]
  },
  {
   "cell_type": "code",
   "execution_count": 17,
   "id": "02033e65",
   "metadata": {},
   "outputs": [],
   "source": [
    "y=data['target']"
   ]
  },
  {
   "cell_type": "code",
   "execution_count": 18,
   "id": "0215e674",
   "metadata": {},
   "outputs": [],
   "source": [
    "y_one=to_categorical(y)"
   ]
  },
  {
   "cell_type": "code",
   "execution_count": 19,
   "id": "12f7a1b9",
   "metadata": {},
   "outputs": [
    {
     "data": {
      "text/plain": [
       "0      0\n",
       "1      0\n",
       "2      0\n",
       "3      0\n",
       "4      0\n",
       "      ..\n",
       "145    2\n",
       "146    2\n",
       "147    2\n",
       "148    2\n",
       "149    2\n",
       "Name: target, Length: 150, dtype: int32"
      ]
     },
     "execution_count": 19,
     "metadata": {},
     "output_type": "execute_result"
    }
   ],
   "source": [
    "y"
   ]
  },
  {
   "cell_type": "code",
   "execution_count": 20,
   "id": "e1a794b4",
   "metadata": {},
   "outputs": [
    {
     "data": {
      "text/plain": [
       "(150, 3)"
      ]
     },
     "execution_count": 20,
     "metadata": {},
     "output_type": "execute_result"
    }
   ],
   "source": [
    "y_one.shape"
   ]
  },
  {
   "cell_type": "code",
   "execution_count": 21,
   "id": "9c247f5c",
   "metadata": {},
   "outputs": [],
   "source": [
    "from sklearn.model_selection import train_test_split"
   ]
  },
  {
   "cell_type": "code",
   "execution_count": 22,
   "id": "6d7c0aff",
   "metadata": {},
   "outputs": [],
   "source": [
    "x_train,x_test,y_train,y_test=train_test_split(x,y_one,test_size=0.2)"
   ]
  },
  {
   "cell_type": "code",
   "execution_count": 23,
   "id": "680c692a",
   "metadata": {},
   "outputs": [],
   "source": [
    "model=Sequential()"
   ]
  },
  {
   "cell_type": "code",
   "execution_count": 24,
   "id": "cb1857a5",
   "metadata": {},
   "outputs": [
    {
     "name": "stderr",
     "output_type": "stream",
     "text": [
      "C:\\Users\\kkaja\\anaconda3\\Lib\\site-packages\\keras\\src\\layers\\core\\dense.py:87: UserWarning: Do not pass an `input_shape`/`input_dim` argument to a layer. When using Sequential models, prefer using an `Input(shape)` object as the first layer in the model instead.\n",
      "  super().__init__(activity_regularizer=activity_regularizer, **kwargs)\n"
     ]
    }
   ],
   "source": [
    "model.add(Dense(10,input_shape=(4,),activation='relu',name='abc'))\n",
    "model.add(Dense(10,activation='relu',name='def'))\n",
    "model.add(Dense(3,activation='softmax',name='ghi'))"
   ]
  },
  {
   "cell_type": "code",
   "execution_count": 25,
   "id": "08a5300f",
   "metadata": {},
   "outputs": [],
   "source": [
    "optimizer=Adam(learning_rate=0.001)"
   ]
  },
  {
   "cell_type": "code",
   "execution_count": 26,
   "id": "48c2d58d",
   "metadata": {},
   "outputs": [],
   "source": [
    "model.compile(optimizer,loss='categorical_crossentropy',metrics=['accuracy','AUC'])"
   ]
  },
  {
   "cell_type": "code",
   "execution_count": 27,
   "id": "86071652",
   "metadata": {},
   "outputs": [
    {
     "name": "stdout",
     "output_type": "stream",
     "text": [
      "Neural Network Summary:\n"
     ]
    },
    {
     "data": {
      "text/html": [
       "<pre style=\"white-space:pre;overflow-x:auto;line-height:normal;font-family:Menlo,'DejaVu Sans Mono',consolas,'Courier New',monospace\"><span style=\"font-weight: bold\">Model: \"sequential\"</span>\n",
       "</pre>\n"
      ],
      "text/plain": [
       "\u001b[1mModel: \"sequential\"\u001b[0m\n"
      ]
     },
     "metadata": {},
     "output_type": "display_data"
    },
    {
     "data": {
      "text/html": [
       "<pre style=\"white-space:pre;overflow-x:auto;line-height:normal;font-family:Menlo,'DejaVu Sans Mono',consolas,'Courier New',monospace\">┏━━━━━━━━━━━━━━━━━━━━━━━━━━━━━━━━━┳━━━━━━━━━━━━━━━━━━━━━━━━┳━━━━━━━━━━━━━━━┓\n",
       "┃<span style=\"font-weight: bold\"> Layer (type)                    </span>┃<span style=\"font-weight: bold\"> Output Shape           </span>┃<span style=\"font-weight: bold\">       Param # </span>┃\n",
       "┡━━━━━━━━━━━━━━━━━━━━━━━━━━━━━━━━━╇━━━━━━━━━━━━━━━━━━━━━━━━╇━━━━━━━━━━━━━━━┩\n",
       "│ abc (<span style=\"color: #0087ff; text-decoration-color: #0087ff\">Dense</span>)                     │ (<span style=\"color: #00d7ff; text-decoration-color: #00d7ff\">None</span>, <span style=\"color: #00af00; text-decoration-color: #00af00\">10</span>)             │            <span style=\"color: #00af00; text-decoration-color: #00af00\">50</span> │\n",
       "├─────────────────────────────────┼────────────────────────┼───────────────┤\n",
       "│ def (<span style=\"color: #0087ff; text-decoration-color: #0087ff\">Dense</span>)                     │ (<span style=\"color: #00d7ff; text-decoration-color: #00d7ff\">None</span>, <span style=\"color: #00af00; text-decoration-color: #00af00\">10</span>)             │           <span style=\"color: #00af00; text-decoration-color: #00af00\">110</span> │\n",
       "├─────────────────────────────────┼────────────────────────┼───────────────┤\n",
       "│ ghi (<span style=\"color: #0087ff; text-decoration-color: #0087ff\">Dense</span>)                     │ (<span style=\"color: #00d7ff; text-decoration-color: #00d7ff\">None</span>, <span style=\"color: #00af00; text-decoration-color: #00af00\">3</span>)              │            <span style=\"color: #00af00; text-decoration-color: #00af00\">33</span> │\n",
       "└─────────────────────────────────┴────────────────────────┴───────────────┘\n",
       "</pre>\n"
      ],
      "text/plain": [
       "┏━━━━━━━━━━━━━━━━━━━━━━━━━━━━━━━━━┳━━━━━━━━━━━━━━━━━━━━━━━━┳━━━━━━━━━━━━━━━┓\n",
       "┃\u001b[1m \u001b[0m\u001b[1mLayer (type)                   \u001b[0m\u001b[1m \u001b[0m┃\u001b[1m \u001b[0m\u001b[1mOutput Shape          \u001b[0m\u001b[1m \u001b[0m┃\u001b[1m \u001b[0m\u001b[1m      Param #\u001b[0m\u001b[1m \u001b[0m┃\n",
       "┡━━━━━━━━━━━━━━━━━━━━━━━━━━━━━━━━━╇━━━━━━━━━━━━━━━━━━━━━━━━╇━━━━━━━━━━━━━━━┩\n",
       "│ abc (\u001b[38;5;33mDense\u001b[0m)                     │ (\u001b[38;5;45mNone\u001b[0m, \u001b[38;5;34m10\u001b[0m)             │            \u001b[38;5;34m50\u001b[0m │\n",
       "├─────────────────────────────────┼────────────────────────┼───────────────┤\n",
       "│ def (\u001b[38;5;33mDense\u001b[0m)                     │ (\u001b[38;5;45mNone\u001b[0m, \u001b[38;5;34m10\u001b[0m)             │           \u001b[38;5;34m110\u001b[0m │\n",
       "├─────────────────────────────────┼────────────────────────┼───────────────┤\n",
       "│ ghi (\u001b[38;5;33mDense\u001b[0m)                     │ (\u001b[38;5;45mNone\u001b[0m, \u001b[38;5;34m3\u001b[0m)              │            \u001b[38;5;34m33\u001b[0m │\n",
       "└─────────────────────────────────┴────────────────────────┴───────────────┘\n"
      ]
     },
     "metadata": {},
     "output_type": "display_data"
    },
    {
     "data": {
      "text/html": [
       "<pre style=\"white-space:pre;overflow-x:auto;line-height:normal;font-family:Menlo,'DejaVu Sans Mono',consolas,'Courier New',monospace\"><span style=\"font-weight: bold\"> Total params: </span><span style=\"color: #00af00; text-decoration-color: #00af00\">193</span> (772.00 B)\n",
       "</pre>\n"
      ],
      "text/plain": [
       "\u001b[1m Total params: \u001b[0m\u001b[38;5;34m193\u001b[0m (772.00 B)\n"
      ]
     },
     "metadata": {},
     "output_type": "display_data"
    },
    {
     "data": {
      "text/html": [
       "<pre style=\"white-space:pre;overflow-x:auto;line-height:normal;font-family:Menlo,'DejaVu Sans Mono',consolas,'Courier New',monospace\"><span style=\"font-weight: bold\"> Trainable params: </span><span style=\"color: #00af00; text-decoration-color: #00af00\">193</span> (772.00 B)\n",
       "</pre>\n"
      ],
      "text/plain": [
       "\u001b[1m Trainable params: \u001b[0m\u001b[38;5;34m193\u001b[0m (772.00 B)\n"
      ]
     },
     "metadata": {},
     "output_type": "display_data"
    },
    {
     "data": {
      "text/html": [
       "<pre style=\"white-space:pre;overflow-x:auto;line-height:normal;font-family:Menlo,'DejaVu Sans Mono',consolas,'Courier New',monospace\"><span style=\"font-weight: bold\"> Non-trainable params: </span><span style=\"color: #00af00; text-decoration-color: #00af00\">0</span> (0.00 B)\n",
       "</pre>\n"
      ],
      "text/plain": [
       "\u001b[1m Non-trainable params: \u001b[0m\u001b[38;5;34m0\u001b[0m (0.00 B)\n"
      ]
     },
     "metadata": {},
     "output_type": "display_data"
    },
    {
     "name": "stdout",
     "output_type": "stream",
     "text": [
      "None\n"
     ]
    }
   ],
   "source": [
    "print('Neural Network Summary:')\n",
    "print(model.summary())"
   ]
  },
  {
   "cell_type": "code",
   "execution_count": 28,
   "id": "574b9e37",
   "metadata": {},
   "outputs": [
    {
     "data": {
      "text/plain": [
       "(150,)"
      ]
     },
     "execution_count": 28,
     "metadata": {},
     "output_type": "execute_result"
    }
   ],
   "source": [
    "y.shape"
   ]
  },
  {
   "cell_type": "code",
   "execution_count": 29,
   "id": "9bc1be93",
   "metadata": {},
   "outputs": [
    {
     "name": "stdout",
     "output_type": "stream",
     "text": [
      "Epoch 1/150\n",
      "24/24 - 2s - 67ms/step - AUC: 0.6567 - accuracy: 0.6167 - loss: 2.0712\n",
      "Epoch 2/150\n",
      "24/24 - 0s - 2ms/step - AUC: 0.6916 - accuracy: 0.6417 - loss: 1.6556\n",
      "Epoch 3/150\n",
      "24/24 - 0s - 2ms/step - AUC: 0.7038 - accuracy: 0.6417 - loss: 1.3593\n",
      "Epoch 4/150\n",
      "24/24 - 0s - 2ms/step - AUC: 0.7145 - accuracy: 0.6417 - loss: 1.1366\n",
      "Epoch 5/150\n",
      "24/24 - 0s - 2ms/step - AUC: 0.7660 - accuracy: 0.6417 - loss: 0.9705\n",
      "Epoch 6/150\n",
      "24/24 - 0s - 2ms/step - AUC: 0.8026 - accuracy: 0.6417 - loss: 0.8519\n",
      "Epoch 7/150\n",
      "24/24 - 0s - 2ms/step - AUC: 0.8672 - accuracy: 0.6417 - loss: 0.7562\n",
      "Epoch 8/150\n",
      "24/24 - 0s - 2ms/step - AUC: 0.9048 - accuracy: 0.6417 - loss: 0.6927\n",
      "Epoch 9/150\n",
      "24/24 - 0s - 2ms/step - AUC: 0.9318 - accuracy: 0.7167 - loss: 0.6590\n",
      "Epoch 10/150\n",
      "24/24 - 0s - 2ms/step - AUC: 0.9510 - accuracy: 0.7833 - loss: 0.6273\n",
      "Epoch 11/150\n",
      "24/24 - 0s - 2ms/step - AUC: 0.9615 - accuracy: 0.8250 - loss: 0.6006\n",
      "Epoch 12/150\n",
      "24/24 - 0s - 2ms/step - AUC: 0.9723 - accuracy: 0.8667 - loss: 0.5758\n",
      "Epoch 13/150\n",
      "24/24 - 0s - 2ms/step - AUC: 0.9745 - accuracy: 0.8833 - loss: 0.5504\n",
      "Epoch 14/150\n",
      "24/24 - 0s - 2ms/step - AUC: 0.9779 - accuracy: 0.9000 - loss: 0.5272\n",
      "Epoch 15/150\n",
      "24/24 - 0s - 2ms/step - AUC: 0.9818 - accuracy: 0.9000 - loss: 0.5055\n",
      "Epoch 16/150\n",
      "24/24 - 0s - 2ms/step - AUC: 0.9786 - accuracy: 0.8917 - loss: 0.4854\n",
      "Epoch 17/150\n",
      "24/24 - 0s - 2ms/step - AUC: 0.9868 - accuracy: 0.9333 - loss: 0.4715\n",
      "Epoch 18/150\n",
      "24/24 - 0s - 2ms/step - AUC: 0.9858 - accuracy: 0.9083 - loss: 0.4440\n",
      "Epoch 19/150\n",
      "24/24 - 0s - 2ms/step - AUC: 0.9885 - accuracy: 0.9500 - loss: 0.4296\n",
      "Epoch 20/150\n",
      "24/24 - 0s - 2ms/step - AUC: 0.9899 - accuracy: 0.9583 - loss: 0.4129\n",
      "Epoch 21/150\n",
      "24/24 - 0s - 2ms/step - AUC: 0.9911 - accuracy: 0.9667 - loss: 0.3942\n",
      "Epoch 22/150\n",
      "24/24 - 0s - 2ms/step - AUC: 0.9909 - accuracy: 0.9667 - loss: 0.3830\n",
      "Epoch 23/150\n",
      "24/24 - 0s - 2ms/step - AUC: 0.9914 - accuracy: 0.9500 - loss: 0.3666\n",
      "Epoch 24/150\n",
      "24/24 - 0s - 2ms/step - AUC: 0.9895 - accuracy: 0.9417 - loss: 0.3546\n",
      "Epoch 25/150\n",
      "24/24 - 0s - 2ms/step - AUC: 0.9930 - accuracy: 0.9667 - loss: 0.3389\n",
      "Epoch 26/150\n",
      "24/24 - 0s - 2ms/step - AUC: 0.9927 - accuracy: 0.9667 - loss: 0.3257\n",
      "Epoch 27/150\n",
      "24/24 - 0s - 2ms/step - AUC: 0.9936 - accuracy: 0.9667 - loss: 0.3139\n",
      "Epoch 28/150\n",
      "24/24 - 0s - 2ms/step - AUC: 0.9947 - accuracy: 0.9667 - loss: 0.3049\n",
      "Epoch 29/150\n",
      "24/24 - 0s - 2ms/step - AUC: 0.9902 - accuracy: 0.9250 - loss: 0.3035\n",
      "Epoch 30/150\n",
      "24/24 - 0s - 2ms/step - AUC: 0.9965 - accuracy: 0.9500 - loss: 0.2854\n",
      "Epoch 31/150\n",
      "24/24 - 0s - 2ms/step - AUC: 0.9951 - accuracy: 0.9667 - loss: 0.2713\n",
      "Epoch 32/150\n",
      "24/24 - 0s - 2ms/step - AUC: 0.9959 - accuracy: 0.9583 - loss: 0.2656\n",
      "Epoch 33/150\n",
      "24/24 - 0s - 2ms/step - AUC: 0.9946 - accuracy: 0.9667 - loss: 0.2563\n",
      "Epoch 34/150\n",
      "24/24 - 0s - 2ms/step - AUC: 0.9964 - accuracy: 0.9500 - loss: 0.2495\n",
      "Epoch 35/150\n",
      "24/24 - 0s - 2ms/step - AUC: 0.9960 - accuracy: 0.9667 - loss: 0.2388\n",
      "Epoch 36/150\n",
      "24/24 - 0s - 2ms/step - AUC: 0.9961 - accuracy: 0.9500 - loss: 0.2335\n",
      "Epoch 37/150\n",
      "24/24 - 0s - 2ms/step - AUC: 0.9963 - accuracy: 0.9500 - loss: 0.2240\n",
      "Epoch 38/150\n",
      "24/24 - 0s - 2ms/step - AUC: 0.9961 - accuracy: 0.9667 - loss: 0.2201\n",
      "Epoch 39/150\n",
      "24/24 - 0s - 2ms/step - AUC: 0.9961 - accuracy: 0.9583 - loss: 0.2173\n",
      "Epoch 40/150\n",
      "24/24 - 0s - 2ms/step - AUC: 0.9959 - accuracy: 0.9583 - loss: 0.2078\n",
      "Epoch 41/150\n",
      "24/24 - 0s - 2ms/step - AUC: 0.9972 - accuracy: 0.9583 - loss: 0.2027\n",
      "Epoch 42/150\n",
      "24/24 - 0s - 2ms/step - AUC: 0.9966 - accuracy: 0.9500 - loss: 0.1948\n",
      "Epoch 43/150\n",
      "24/24 - 0s - 2ms/step - AUC: 0.9955 - accuracy: 0.9667 - loss: 0.1954\n",
      "Epoch 44/150\n",
      "24/24 - 0s - 2ms/step - AUC: 0.9966 - accuracy: 0.9500 - loss: 0.1880\n",
      "Epoch 45/150\n",
      "24/24 - 0s - 2ms/step - AUC: 0.9969 - accuracy: 0.9667 - loss: 0.1798\n",
      "Epoch 46/150\n",
      "24/24 - 0s - 2ms/step - AUC: 0.9957 - accuracy: 0.9583 - loss: 0.1829\n",
      "Epoch 47/150\n",
      "24/24 - 0s - 2ms/step - AUC: 0.9960 - accuracy: 0.9417 - loss: 0.1828\n",
      "Epoch 48/150\n",
      "24/24 - 0s - 2ms/step - AUC: 0.9953 - accuracy: 0.9667 - loss: 0.1754\n",
      "Epoch 49/150\n",
      "24/24 - 0s - 2ms/step - AUC: 0.9972 - accuracy: 0.9583 - loss: 0.1670\n",
      "Epoch 50/150\n",
      "24/24 - 0s - 2ms/step - AUC: 0.9965 - accuracy: 0.9667 - loss: 0.1687\n",
      "Epoch 51/150\n",
      "24/24 - 0s - 2ms/step - AUC: 0.9962 - accuracy: 0.9667 - loss: 0.1613\n",
      "Epoch 52/150\n",
      "24/24 - 0s - 2ms/step - AUC: 0.9973 - accuracy: 0.9583 - loss: 0.1591\n",
      "Epoch 53/150\n",
      "24/24 - 0s - 2ms/step - AUC: 0.9950 - accuracy: 0.9500 - loss: 0.1635\n",
      "Epoch 54/150\n",
      "24/24 - 0s - 2ms/step - AUC: 0.9974 - accuracy: 0.9583 - loss: 0.1521\n",
      "Epoch 55/150\n",
      "24/24 - 0s - 2ms/step - AUC: 0.9974 - accuracy: 0.9583 - loss: 0.1483\n",
      "Epoch 56/150\n",
      "24/24 - 0s - 2ms/step - AUC: 0.9972 - accuracy: 0.9583 - loss: 0.1467\n",
      "Epoch 57/150\n",
      "24/24 - 0s - 2ms/step - AUC: 0.9976 - accuracy: 0.9583 - loss: 0.1439\n",
      "Epoch 58/150\n",
      "24/24 - 0s - 2ms/step - AUC: 0.9972 - accuracy: 0.9750 - loss: 0.1412\n",
      "Epoch 59/150\n",
      "24/24 - 0s - 2ms/step - AUC: 0.9974 - accuracy: 0.9583 - loss: 0.1414\n",
      "Epoch 60/150\n",
      "24/24 - 0s - 2ms/step - AUC: 0.9972 - accuracy: 0.9583 - loss: 0.1394\n",
      "Epoch 61/150\n",
      "24/24 - 0s - 2ms/step - AUC: 0.9971 - accuracy: 0.9583 - loss: 0.1388\n",
      "Epoch 62/150\n",
      "24/24 - 0s - 2ms/step - AUC: 0.9970 - accuracy: 0.9583 - loss: 0.1349\n",
      "Epoch 63/150\n",
      "24/24 - 0s - 2ms/step - AUC: 0.9971 - accuracy: 0.9583 - loss: 0.1344\n",
      "Epoch 64/150\n",
      "24/24 - 0s - 2ms/step - AUC: 0.9973 - accuracy: 0.9583 - loss: 0.1345\n",
      "Epoch 65/150\n",
      "24/24 - 0s - 2ms/step - AUC: 0.9974 - accuracy: 0.9583 - loss: 0.1279\n",
      "Epoch 66/150\n",
      "24/24 - 0s - 2ms/step - AUC: 0.9971 - accuracy: 0.9583 - loss: 0.1309\n",
      "Epoch 67/150\n",
      "24/24 - 0s - 2ms/step - AUC: 0.9973 - accuracy: 0.9583 - loss: 0.1303\n",
      "Epoch 68/150\n",
      "24/24 - 0s - 2ms/step - AUC: 0.9973 - accuracy: 0.9583 - loss: 0.1253\n",
      "Epoch 69/150\n",
      "24/24 - 0s - 2ms/step - AUC: 0.9970 - accuracy: 0.9583 - loss: 0.1281\n",
      "Epoch 70/150\n",
      "24/24 - 0s - 2ms/step - AUC: 0.9972 - accuracy: 0.9583 - loss: 0.1244\n",
      "Epoch 71/150\n",
      "24/24 - 0s - 2ms/step - AUC: 0.9976 - accuracy: 0.9583 - loss: 0.1211\n",
      "Epoch 72/150\n",
      "24/24 - 0s - 2ms/step - AUC: 0.9976 - accuracy: 0.9583 - loss: 0.1227\n",
      "Epoch 73/150\n",
      "24/24 - 0s - 2ms/step - AUC: 0.9971 - accuracy: 0.9583 - loss: 0.1184\n",
      "Epoch 74/150\n",
      "24/24 - 0s - 2ms/step - AUC: 0.9971 - accuracy: 0.9583 - loss: 0.1180\n",
      "Epoch 75/150\n",
      "24/24 - 0s - 2ms/step - AUC: 0.9973 - accuracy: 0.9667 - loss: 0.1210\n",
      "Epoch 76/150\n",
      "24/24 - 0s - 2ms/step - AUC: 0.9970 - accuracy: 0.9667 - loss: 0.1180\n",
      "Epoch 77/150\n",
      "24/24 - 0s - 2ms/step - AUC: 0.9978 - accuracy: 0.9583 - loss: 0.1122\n",
      "Epoch 78/150\n",
      "24/24 - 0s - 2ms/step - AUC: 0.9980 - accuracy: 0.9583 - loss: 0.1119\n",
      "Epoch 79/150\n",
      "24/24 - 0s - 2ms/step - AUC: 0.9975 - accuracy: 0.9583 - loss: 0.1121\n",
      "Epoch 80/150\n",
      "24/24 - 0s - 2ms/step - AUC: 0.9972 - accuracy: 0.9500 - loss: 0.1175\n",
      "Epoch 81/150\n",
      "24/24 - 0s - 2ms/step - AUC: 0.9966 - accuracy: 0.9667 - loss: 0.1155\n",
      "Epoch 82/150\n",
      "24/24 - 0s - 2ms/step - AUC: 0.9977 - accuracy: 0.9667 - loss: 0.1115\n",
      "Epoch 83/150\n",
      "24/24 - 0s - 2ms/step - AUC: 0.9975 - accuracy: 0.9583 - loss: 0.1107\n",
      "Epoch 84/150\n",
      "24/24 - 0s - 2ms/step - AUC: 0.9975 - accuracy: 0.9583 - loss: 0.1077\n",
      "Epoch 85/150\n",
      "24/24 - 0s - 2ms/step - AUC: 0.9979 - accuracy: 0.9583 - loss: 0.1093\n",
      "Epoch 86/150\n",
      "24/24 - 0s - 2ms/step - AUC: 0.9977 - accuracy: 0.9583 - loss: 0.1076\n",
      "Epoch 87/150\n",
      "24/24 - 0s - 2ms/step - AUC: 0.9974 - accuracy: 0.9583 - loss: 0.1075\n",
      "Epoch 88/150\n",
      "24/24 - 0s - 2ms/step - AUC: 0.9978 - accuracy: 0.9583 - loss: 0.1073\n",
      "Epoch 89/150\n",
      "24/24 - 0s - 2ms/step - AUC: 0.9976 - accuracy: 0.9583 - loss: 0.1053\n",
      "Epoch 90/150\n",
      "24/24 - 0s - 2ms/step - AUC: 0.9976 - accuracy: 0.9583 - loss: 0.1081\n",
      "Epoch 91/150\n",
      "24/24 - 0s - 2ms/step - AUC: 0.9979 - accuracy: 0.9583 - loss: 0.1034\n",
      "Epoch 92/150\n",
      "24/24 - 0s - 2ms/step - AUC: 0.9971 - accuracy: 0.9583 - loss: 0.1077\n",
      "Epoch 93/150\n",
      "24/24 - 0s - 2ms/step - AUC: 0.9979 - accuracy: 0.9667 - loss: 0.1028\n",
      "Epoch 94/150\n",
      "24/24 - 0s - 2ms/step - AUC: 0.9968 - accuracy: 0.9500 - loss: 0.1157\n",
      "Epoch 95/150\n",
      "24/24 - 0s - 2ms/step - AUC: 0.9977 - accuracy: 0.9583 - loss: 0.1061\n",
      "Epoch 96/150\n",
      "24/24 - 0s - 2ms/step - AUC: 0.9978 - accuracy: 0.9583 - loss: 0.0993\n",
      "Epoch 97/150\n",
      "24/24 - 0s - 2ms/step - AUC: 0.9980 - accuracy: 0.9583 - loss: 0.1014\n",
      "Epoch 98/150\n",
      "24/24 - 0s - 2ms/step - AUC: 0.9977 - accuracy: 0.9667 - loss: 0.1002\n",
      "Epoch 99/150\n",
      "24/24 - 0s - 2ms/step - AUC: 0.9970 - accuracy: 0.9500 - loss: 0.1107\n"
     ]
    },
    {
     "name": "stdout",
     "output_type": "stream",
     "text": [
      "Epoch 100/150\n",
      "24/24 - 0s - 2ms/step - AUC: 0.9975 - accuracy: 0.9667 - loss: 0.1060\n",
      "Epoch 101/150\n",
      "24/24 - 0s - 2ms/step - AUC: 0.9978 - accuracy: 0.9667 - loss: 0.0988\n",
      "Epoch 102/150\n",
      "24/24 - 0s - 2ms/step - AUC: 0.9975 - accuracy: 0.9667 - loss: 0.0980\n",
      "Epoch 103/150\n",
      "24/24 - 0s - 2ms/step - AUC: 0.9980 - accuracy: 0.9583 - loss: 0.0980\n",
      "Epoch 104/150\n",
      "24/24 - 0s - 2ms/step - AUC: 0.9975 - accuracy: 0.9667 - loss: 0.1030\n",
      "Epoch 105/150\n",
      "24/24 - 0s - 2ms/step - AUC: 0.9981 - accuracy: 0.9583 - loss: 0.0971\n",
      "Epoch 106/150\n",
      "24/24 - 0s - 2ms/step - AUC: 0.9978 - accuracy: 0.9583 - loss: 0.0964\n",
      "Epoch 107/150\n",
      "24/24 - 0s - 2ms/step - AUC: 0.9974 - accuracy: 0.9667 - loss: 0.0998\n",
      "Epoch 108/150\n",
      "24/24 - 0s - 2ms/step - AUC: 0.9977 - accuracy: 0.9667 - loss: 0.0980\n",
      "Epoch 109/150\n",
      "24/24 - 0s - 2ms/step - AUC: 0.9981 - accuracy: 0.9667 - loss: 0.0909\n",
      "Epoch 110/150\n",
      "24/24 - 0s - 2ms/step - AUC: 0.9973 - accuracy: 0.9583 - loss: 0.0995\n",
      "Epoch 111/150\n",
      "24/24 - 0s - 2ms/step - AUC: 0.9971 - accuracy: 0.9667 - loss: 0.1041\n",
      "Epoch 112/150\n",
      "24/24 - 0s - 2ms/step - AUC: 0.9971 - accuracy: 0.9583 - loss: 0.0985\n",
      "Epoch 113/150\n",
      "24/24 - 0s - 2ms/step - AUC: 0.9980 - accuracy: 0.9583 - loss: 0.0955\n",
      "Epoch 114/150\n",
      "24/24 - 0s - 2ms/step - AUC: 0.9980 - accuracy: 0.9667 - loss: 0.0930\n",
      "Epoch 115/150\n",
      "24/24 - 0s - 2ms/step - AUC: 0.9979 - accuracy: 0.9667 - loss: 0.0930\n",
      "Epoch 116/150\n",
      "24/24 - 0s - 2ms/step - AUC: 0.9978 - accuracy: 0.9583 - loss: 0.0938\n",
      "Epoch 117/150\n",
      "24/24 - 0s - 2ms/step - AUC: 0.9978 - accuracy: 0.9667 - loss: 0.0944\n",
      "Epoch 118/150\n",
      "24/24 - 0s - 2ms/step - AUC: 0.9973 - accuracy: 0.9583 - loss: 0.0978\n",
      "Epoch 119/150\n",
      "24/24 - 0s - 2ms/step - AUC: 0.9979 - accuracy: 0.9667 - loss: 0.0966\n",
      "Epoch 120/150\n",
      "24/24 - 0s - 2ms/step - AUC: 0.9976 - accuracy: 0.9667 - loss: 0.0918\n",
      "Epoch 121/150\n",
      "24/24 - 0s - 2ms/step - AUC: 0.9974 - accuracy: 0.9583 - loss: 0.0980\n",
      "Epoch 122/150\n",
      "24/24 - 0s - 2ms/step - AUC: 0.9980 - accuracy: 0.9583 - loss: 0.0891\n",
      "Epoch 123/150\n",
      "24/24 - 0s - 2ms/step - AUC: 0.9978 - accuracy: 0.9583 - loss: 0.0939\n",
      "Epoch 124/150\n",
      "24/24 - 0s - 2ms/step - AUC: 0.9980 - accuracy: 0.9667 - loss: 0.0908\n",
      "Epoch 125/150\n",
      "24/24 - 0s - 2ms/step - AUC: 0.9979 - accuracy: 0.9583 - loss: 0.0900\n",
      "Epoch 126/150\n",
      "24/24 - 0s - 2ms/step - AUC: 0.9973 - accuracy: 0.9583 - loss: 0.1017\n",
      "Epoch 127/150\n",
      "24/24 - 0s - 2ms/step - AUC: 0.9976 - accuracy: 0.9667 - loss: 0.0944\n",
      "Epoch 128/150\n",
      "24/24 - 0s - 2ms/step - AUC: 0.9975 - accuracy: 0.9583 - loss: 0.0924\n",
      "Epoch 129/150\n",
      "24/24 - 0s - 2ms/step - AUC: 0.9979 - accuracy: 0.9667 - loss: 0.0943\n",
      "Epoch 130/150\n",
      "24/24 - 0s - 2ms/step - AUC: 0.9976 - accuracy: 0.9583 - loss: 0.0942\n",
      "Epoch 131/150\n",
      "24/24 - 0s - 2ms/step - AUC: 0.9973 - accuracy: 0.9583 - loss: 0.0967\n",
      "Epoch 132/150\n",
      "24/24 - 0s - 2ms/step - AUC: 0.9981 - accuracy: 0.9583 - loss: 0.0911\n",
      "Epoch 133/150\n",
      "24/24 - 0s - 2ms/step - AUC: 0.9979 - accuracy: 0.9583 - loss: 0.0894\n",
      "Epoch 134/150\n",
      "24/24 - 0s - 2ms/step - AUC: 0.9975 - accuracy: 0.9667 - loss: 0.0943\n",
      "Epoch 135/150\n",
      "24/24 - 0s - 2ms/step - AUC: 0.9971 - accuracy: 0.9583 - loss: 0.1000\n",
      "Epoch 136/150\n",
      "24/24 - 0s - 2ms/step - AUC: 0.9979 - accuracy: 0.9583 - loss: 0.0876\n",
      "Epoch 137/150\n",
      "24/24 - 0s - 2ms/step - AUC: 0.9979 - accuracy: 0.9583 - loss: 0.0864\n",
      "Epoch 138/150\n",
      "24/24 - 0s - 2ms/step - AUC: 0.9977 - accuracy: 0.9667 - loss: 0.0914\n",
      "Epoch 139/150\n",
      "24/24 - 0s - 2ms/step - AUC: 0.9978 - accuracy: 0.9667 - loss: 0.0894\n",
      "Epoch 140/150\n",
      "24/24 - 0s - 2ms/step - AUC: 0.9975 - accuracy: 0.9750 - loss: 0.0932\n",
      "Epoch 141/150\n",
      "24/24 - 0s - 2ms/step - AUC: 0.9976 - accuracy: 0.9583 - loss: 0.0925\n",
      "Epoch 142/150\n",
      "24/24 - 0s - 2ms/step - AUC: 0.9981 - accuracy: 0.9583 - loss: 0.0876\n",
      "Epoch 143/150\n",
      "24/24 - 0s - 2ms/step - AUC: 0.9980 - accuracy: 0.9667 - loss: 0.0865\n",
      "Epoch 144/150\n",
      "24/24 - 0s - 2ms/step - AUC: 0.9981 - accuracy: 0.9667 - loss: 0.0852\n",
      "Epoch 145/150\n",
      "24/24 - 0s - 2ms/step - AUC: 0.9981 - accuracy: 0.9667 - loss: 0.0851\n",
      "Epoch 146/150\n",
      "24/24 - 0s - 2ms/step - AUC: 0.9975 - accuracy: 0.9667 - loss: 0.0947\n",
      "Epoch 147/150\n",
      "24/24 - 0s - 2ms/step - AUC: 0.9978 - accuracy: 0.9583 - loss: 0.0883\n",
      "Epoch 148/150\n",
      "24/24 - 0s - 2ms/step - AUC: 0.9979 - accuracy: 0.9667 - loss: 0.0871\n",
      "Epoch 149/150\n",
      "24/24 - 0s - 2ms/step - AUC: 0.9980 - accuracy: 0.9667 - loss: 0.0890\n",
      "Epoch 150/150\n",
      "24/24 - 0s - 2ms/step - AUC: 0.9978 - accuracy: 0.9750 - loss: 0.0881\n"
     ]
    },
    {
     "data": {
      "text/plain": [
       "<keras.src.callbacks.history.History at 0x266bec69dd0>"
      ]
     },
     "execution_count": 29,
     "metadata": {},
     "output_type": "execute_result"
    }
   ],
   "source": [
    "model.fit(x_train,y_train,verbose=2,batch_size=5,epochs=150)"
   ]
  },
  {
   "cell_type": "code",
   "execution_count": 30,
   "id": "a98e5027",
   "metadata": {},
   "outputs": [
    {
     "name": "stdout",
     "output_type": "stream",
     "text": [
      "\u001b[1m1/1\u001b[0m \u001b[32m━━━━━━━━━━━━━━━━━━━━\u001b[0m\u001b[37m\u001b[0m \u001b[1m0s\u001b[0m 300ms/step - AUC: 1.0000 - accuracy: 1.0000 - loss: 0.0196\n",
      "Test loss: 0.0196\n",
      "Test accuracy: 1.0000\n",
      "Test AUC:  1.0000\n"
     ]
    }
   ],
   "source": [
    "loss,accuracy,auc=model.evaluate(x_test,y_test)\n",
    "print(f'Test loss: {loss:.4f}')\n",
    "print(f'Test accuracy: {accuracy:.4f}')\n",
    "print(f'Test AUC: {auc: .4f}')"
   ]
  },
  {
   "cell_type": "code",
   "execution_count": null,
   "id": "f57c7bd6",
   "metadata": {},
   "outputs": [],
   "source": []
  }
 ],
 "metadata": {
  "kernelspec": {
   "display_name": "Python 3 (ipykernel)",
   "language": "python",
   "name": "python3"
  },
  "language_info": {
   "codemirror_mode": {
    "name": "ipython",
    "version": 3
   },
   "file_extension": ".py",
   "mimetype": "text/x-python",
   "name": "python",
   "nbconvert_exporter": "python",
   "pygments_lexer": "ipython3",
   "version": "3.11.7"
  }
 },
 "nbformat": 4,
 "nbformat_minor": 5
}
