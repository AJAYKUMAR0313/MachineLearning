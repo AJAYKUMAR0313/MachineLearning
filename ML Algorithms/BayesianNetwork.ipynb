{
 "cells": [
  {
   "cell_type": "code",
   "execution_count": 1,
   "id": "c282158b",
   "metadata": {},
   "outputs": [
    {
     "name": "stdout",
     "output_type": "stream",
     "text": [
      "Requirement already satisfied: pgmpy in c:\\users\\kkaja\\anaconda3\\lib\\site-packages (0.1.25)\n",
      "Requirement already satisfied: networkx in c:\\users\\kkaja\\anaconda3\\lib\\site-packages (from pgmpy) (3.1)\n",
      "Requirement already satisfied: numpy in c:\\users\\kkaja\\anaconda3\\lib\\site-packages (from pgmpy) (1.26.4)\n",
      "Requirement already satisfied: scipy in c:\\users\\kkaja\\anaconda3\\lib\\site-packages (from pgmpy) (1.11.4)\n",
      "Requirement already satisfied: scikit-learn in c:\\users\\kkaja\\anaconda3\\lib\\site-packages (from pgmpy) (1.2.2)\n",
      "Requirement already satisfied: pandas in c:\\users\\kkaja\\anaconda3\\lib\\site-packages (from pgmpy) (2.1.4)\n",
      "Requirement already satisfied: pyparsing in c:\\users\\kkaja\\anaconda3\\lib\\site-packages (from pgmpy) (3.0.9)\n",
      "Requirement already satisfied: torch in c:\\users\\kkaja\\anaconda3\\lib\\site-packages (from pgmpy) (2.3.1)\n",
      "Requirement already satisfied: statsmodels in c:\\users\\kkaja\\anaconda3\\lib\\site-packages (from pgmpy) (0.14.0)\n",
      "Requirement already satisfied: tqdm in c:\\users\\kkaja\\anaconda3\\lib\\site-packages (from pgmpy) (4.65.0)\n",
      "Requirement already satisfied: joblib in c:\\users\\kkaja\\anaconda3\\lib\\site-packages (from pgmpy) (1.2.0)\n",
      "Requirement already satisfied: opt-einsum in c:\\users\\kkaja\\anaconda3\\lib\\site-packages (from pgmpy) (3.3.0)\n",
      "Requirement already satisfied: python-dateutil>=2.8.2 in c:\\users\\kkaja\\anaconda3\\lib\\site-packages (from pandas->pgmpy) (2.8.2)\n",
      "Requirement already satisfied: pytz>=2020.1 in c:\\users\\kkaja\\anaconda3\\lib\\site-packages (from pandas->pgmpy) (2023.3.post1)\n",
      "Requirement already satisfied: tzdata>=2022.1 in c:\\users\\kkaja\\anaconda3\\lib\\site-packages (from pandas->pgmpy) (2023.3)\n",
      "Requirement already satisfied: threadpoolctl>=2.0.0 in c:\\users\\kkaja\\anaconda3\\lib\\site-packages (from scikit-learn->pgmpy) (2.2.0)\n",
      "Requirement already satisfied: patsy>=0.5.2 in c:\\users\\kkaja\\anaconda3\\lib\\site-packages (from statsmodels->pgmpy) (0.5.3)\n",
      "Requirement already satisfied: packaging>=21.3 in c:\\users\\kkaja\\anaconda3\\lib\\site-packages (from statsmodels->pgmpy) (23.1)\n",
      "Requirement already satisfied: filelock in c:\\users\\kkaja\\anaconda3\\lib\\site-packages (from torch->pgmpy) (3.13.1)\n",
      "Requirement already satisfied: typing-extensions>=4.8.0 in c:\\users\\kkaja\\anaconda3\\lib\\site-packages (from torch->pgmpy) (4.9.0)\n",
      "Requirement already satisfied: sympy in c:\\users\\kkaja\\anaconda3\\lib\\site-packages (from torch->pgmpy) (1.12)\n",
      "Requirement already satisfied: jinja2 in c:\\users\\kkaja\\anaconda3\\lib\\site-packages (from torch->pgmpy) (3.1.3)\n",
      "Requirement already satisfied: fsspec in c:\\users\\kkaja\\anaconda3\\lib\\site-packages (from torch->pgmpy) (2023.10.0)\n",
      "Requirement already satisfied: mkl<=2021.4.0,>=2021.1.1 in c:\\users\\kkaja\\anaconda3\\lib\\site-packages (from torch->pgmpy) (2021.4.0)\n",
      "Requirement already satisfied: colorama in c:\\users\\kkaja\\anaconda3\\lib\\site-packages (from tqdm->pgmpy) (0.4.6)\n",
      "Requirement already satisfied: intel-openmp==2021.* in c:\\users\\kkaja\\anaconda3\\lib\\site-packages (from mkl<=2021.4.0,>=2021.1.1->torch->pgmpy) (2021.4.0)\n",
      "Requirement already satisfied: tbb==2021.* in c:\\users\\kkaja\\anaconda3\\lib\\site-packages (from mkl<=2021.4.0,>=2021.1.1->torch->pgmpy) (2021.13.0)\n",
      "Requirement already satisfied: six in c:\\users\\kkaja\\anaconda3\\lib\\site-packages (from patsy>=0.5.2->statsmodels->pgmpy) (1.16.0)\n",
      "Requirement already satisfied: MarkupSafe>=2.0 in c:\\users\\kkaja\\anaconda3\\lib\\site-packages (from jinja2->torch->pgmpy) (2.1.3)\n",
      "Requirement already satisfied: mpmath>=0.19 in c:\\users\\kkaja\\anaconda3\\lib\\site-packages (from sympy->torch->pgmpy) (1.3.0)\n"
     ]
    }
   ],
   "source": [
    "!pip install pgmpy"
   ]
  },
  {
   "cell_type": "code",
   "execution_count": 2,
   "id": "052b83cb",
   "metadata": {},
   "outputs": [],
   "source": [
    "import pandas as pd"
   ]
  },
  {
   "cell_type": "code",
   "execution_count": 3,
   "id": "3f70641a",
   "metadata": {},
   "outputs": [],
   "source": [
    "from pgmpy.estimators import MaximumLikelihoodEstimator"
   ]
  },
  {
   "cell_type": "code",
   "execution_count": 4,
   "id": "81cfb5e2",
   "metadata": {},
   "outputs": [],
   "source": [
    "from pgmpy.models import BayesianModel"
   ]
  },
  {
   "cell_type": "code",
   "execution_count": 5,
   "id": "d47348ed",
   "metadata": {},
   "outputs": [],
   "source": [
    "from pgmpy.inference import VariableElimination"
   ]
  },
  {
   "cell_type": "code",
   "execution_count": 6,
   "id": "29a45673",
   "metadata": {},
   "outputs": [],
   "source": [
    "import pandas as pd"
   ]
  },
  {
   "cell_type": "code",
   "execution_count": 11,
   "id": "e2e1b551",
   "metadata": {},
   "outputs": [],
   "source": [
    "data=pd.read_csv('ds4.csv')"
   ]
  },
  {
   "cell_type": "code",
   "execution_count": 12,
   "id": "952bd9ec",
   "metadata": {},
   "outputs": [],
   "source": [
    "heart_disease=pd.DataFrame(data)"
   ]
  },
  {
   "cell_type": "code",
   "execution_count": 13,
   "id": "8933b9d3",
   "metadata": {},
   "outputs": [
    {
     "data": {
      "text/html": [
       "<div>\n",
       "<style scoped>\n",
       "    .dataframe tbody tr th:only-of-type {\n",
       "        vertical-align: middle;\n",
       "    }\n",
       "\n",
       "    .dataframe tbody tr th {\n",
       "        vertical-align: top;\n",
       "    }\n",
       "\n",
       "    .dataframe thead th {\n",
       "        text-align: right;\n",
       "    }\n",
       "</style>\n",
       "<table border=\"1\" class=\"dataframe\">\n",
       "  <thead>\n",
       "    <tr style=\"text-align: right;\">\n",
       "      <th></th>\n",
       "      <th>age</th>\n",
       "      <th>Gender</th>\n",
       "      <th>Family</th>\n",
       "      <th>diet</th>\n",
       "      <th>Lifestyle</th>\n",
       "      <th>cholestrol</th>\n",
       "      <th>heartdisease</th>\n",
       "    </tr>\n",
       "  </thead>\n",
       "  <tbody>\n",
       "    <tr>\n",
       "      <th>0</th>\n",
       "      <td>0</td>\n",
       "      <td>0</td>\n",
       "      <td>1</td>\n",
       "      <td>1</td>\n",
       "      <td>3</td>\n",
       "      <td>0</td>\n",
       "      <td>1</td>\n",
       "    </tr>\n",
       "    <tr>\n",
       "      <th>1</th>\n",
       "      <td>0</td>\n",
       "      <td>1</td>\n",
       "      <td>1</td>\n",
       "      <td>1</td>\n",
       "      <td>3</td>\n",
       "      <td>0</td>\n",
       "      <td>1</td>\n",
       "    </tr>\n",
       "    <tr>\n",
       "      <th>2</th>\n",
       "      <td>1</td>\n",
       "      <td>0</td>\n",
       "      <td>0</td>\n",
       "      <td>0</td>\n",
       "      <td>2</td>\n",
       "      <td>1</td>\n",
       "      <td>1</td>\n",
       "    </tr>\n",
       "    <tr>\n",
       "      <th>3</th>\n",
       "      <td>4</td>\n",
       "      <td>0</td>\n",
       "      <td>1</td>\n",
       "      <td>1</td>\n",
       "      <td>3</td>\n",
       "      <td>2</td>\n",
       "      <td>0</td>\n",
       "    </tr>\n",
       "    <tr>\n",
       "      <th>4</th>\n",
       "      <td>3</td>\n",
       "      <td>1</td>\n",
       "      <td>1</td>\n",
       "      <td>0</td>\n",
       "      <td>0</td>\n",
       "      <td>2</td>\n",
       "      <td>0</td>\n",
       "    </tr>\n",
       "    <tr>\n",
       "      <th>5</th>\n",
       "      <td>2</td>\n",
       "      <td>0</td>\n",
       "      <td>1</td>\n",
       "      <td>1</td>\n",
       "      <td>1</td>\n",
       "      <td>0</td>\n",
       "      <td>1</td>\n",
       "    </tr>\n",
       "    <tr>\n",
       "      <th>6</th>\n",
       "      <td>4</td>\n",
       "      <td>0</td>\n",
       "      <td>1</td>\n",
       "      <td>0</td>\n",
       "      <td>2</td>\n",
       "      <td>0</td>\n",
       "      <td>1</td>\n",
       "    </tr>\n",
       "    <tr>\n",
       "      <th>7</th>\n",
       "      <td>0</td>\n",
       "      <td>0</td>\n",
       "      <td>1</td>\n",
       "      <td>1</td>\n",
       "      <td>3</td>\n",
       "      <td>0</td>\n",
       "      <td>1</td>\n",
       "    </tr>\n",
       "    <tr>\n",
       "      <th>8</th>\n",
       "      <td>3</td>\n",
       "      <td>1</td>\n",
       "      <td>1</td>\n",
       "      <td>0</td>\n",
       "      <td>0</td>\n",
       "      <td>2</td>\n",
       "      <td>0</td>\n",
       "    </tr>\n",
       "    <tr>\n",
       "      <th>9</th>\n",
       "      <td>1</td>\n",
       "      <td>1</td>\n",
       "      <td>0</td>\n",
       "      <td>0</td>\n",
       "      <td>0</td>\n",
       "      <td>2</td>\n",
       "      <td>1</td>\n",
       "    </tr>\n",
       "    <tr>\n",
       "      <th>10</th>\n",
       "      <td>4</td>\n",
       "      <td>1</td>\n",
       "      <td>0</td>\n",
       "      <td>1</td>\n",
       "      <td>2</td>\n",
       "      <td>0</td>\n",
       "      <td>1</td>\n",
       "    </tr>\n",
       "    <tr>\n",
       "      <th>11</th>\n",
       "      <td>4</td>\n",
       "      <td>0</td>\n",
       "      <td>1</td>\n",
       "      <td>1</td>\n",
       "      <td>3</td>\n",
       "      <td>2</td>\n",
       "      <td>0</td>\n",
       "    </tr>\n",
       "    <tr>\n",
       "      <th>12</th>\n",
       "      <td>2</td>\n",
       "      <td>1</td>\n",
       "      <td>0</td>\n",
       "      <td>0</td>\n",
       "      <td>0</td>\n",
       "      <td>0</td>\n",
       "      <td>0</td>\n",
       "    </tr>\n",
       "    <tr>\n",
       "      <th>13</th>\n",
       "      <td>2</td>\n",
       "      <td>0</td>\n",
       "      <td>1</td>\n",
       "      <td>1</td>\n",
       "      <td>1</td>\n",
       "      <td>0</td>\n",
       "      <td>1</td>\n",
       "    </tr>\n",
       "    <tr>\n",
       "      <th>14</th>\n",
       "      <td>3</td>\n",
       "      <td>1</td>\n",
       "      <td>1</td>\n",
       "      <td>0</td>\n",
       "      <td>0</td>\n",
       "      <td>1</td>\n",
       "      <td>0</td>\n",
       "    </tr>\n",
       "    <tr>\n",
       "      <th>15</th>\n",
       "      <td>0</td>\n",
       "      <td>0</td>\n",
       "      <td>1</td>\n",
       "      <td>0</td>\n",
       "      <td>0</td>\n",
       "      <td>2</td>\n",
       "      <td>1</td>\n",
       "    </tr>\n",
       "    <tr>\n",
       "      <th>16</th>\n",
       "      <td>1</td>\n",
       "      <td>1</td>\n",
       "      <td>0</td>\n",
       "      <td>1</td>\n",
       "      <td>2</td>\n",
       "      <td>1</td>\n",
       "      <td>1</td>\n",
       "    </tr>\n",
       "    <tr>\n",
       "      <th>17</th>\n",
       "      <td>3</td>\n",
       "      <td>1</td>\n",
       "      <td>1</td>\n",
       "      <td>1</td>\n",
       "      <td>0</td>\n",
       "      <td>1</td>\n",
       "      <td>0</td>\n",
       "    </tr>\n",
       "    <tr>\n",
       "      <th>18</th>\n",
       "      <td>4</td>\n",
       "      <td>0</td>\n",
       "      <td>1</td>\n",
       "      <td>1</td>\n",
       "      <td>3</td>\n",
       "      <td>2</td>\n",
       "      <td>0</td>\n",
       "    </tr>\n",
       "  </tbody>\n",
       "</table>\n",
       "</div>"
      ],
      "text/plain": [
       "    age  Gender  Family  diet  Lifestyle  cholestrol  heartdisease\n",
       "0     0       0       1     1          3           0             1\n",
       "1     0       1       1     1          3           0             1\n",
       "2     1       0       0     0          2           1             1\n",
       "3     4       0       1     1          3           2             0\n",
       "4     3       1       1     0          0           2             0\n",
       "5     2       0       1     1          1           0             1\n",
       "6     4       0       1     0          2           0             1\n",
       "7     0       0       1     1          3           0             1\n",
       "8     3       1       1     0          0           2             0\n",
       "9     1       1       0     0          0           2             1\n",
       "10    4       1       0     1          2           0             1\n",
       "11    4       0       1     1          3           2             0\n",
       "12    2       1       0     0          0           0             0\n",
       "13    2       0       1     1          1           0             1\n",
       "14    3       1       1     0          0           1             0\n",
       "15    0       0       1     0          0           2             1\n",
       "16    1       1       0     1          2           1             1\n",
       "17    3       1       1     1          0           1             0\n",
       "18    4       0       1     1          3           2             0"
      ]
     },
     "execution_count": 13,
     "metadata": {},
     "output_type": "execute_result"
    }
   ],
   "source": [
    "heart_disease"
   ]
  },
  {
   "cell_type": "code",
   "execution_count": 16,
   "id": "37c694cc",
   "metadata": {},
   "outputs": [
    {
     "name": "stderr",
     "output_type": "stream",
     "text": [
      "WARNING:pgmpy:BayesianModel has been renamed to BayesianNetwork. Please use BayesianNetwork class, BayesianModel will be removed in future.\n"
     ]
    }
   ],
   "source": [
    "model = BayesianModel([\n",
    "    ('age', 'Lifestyle'),\n",
    "    ('Gender', 'Lifestyle'),\n",
    "    ('Family', 'heartdisease'),\n",
    "    ('diet', 'cholestrol'),\n",
    "    ('Lifestyle', 'diet'),\n",
    "    ('cholestrol', 'heartdisease'),\n",
    "    ('diet', 'cholestrol')\n",
    "])"
   ]
  },
  {
   "cell_type": "code",
   "execution_count": 17,
   "id": "d37cc85f",
   "metadata": {},
   "outputs": [],
   "source": [
    "model.fit(heart_disease, estimator=MaximumLikelihoodEstimator)\n"
   ]
  },
  {
   "cell_type": "code",
   "execution_count": 19,
   "id": "287ae701",
   "metadata": {},
   "outputs": [],
   "source": [
    "HeartDisease_infer=VariableElimination(model)"
   ]
  },
  {
   "cell_type": "code",
   "execution_count": 20,
   "id": "d938aef8",
   "metadata": {},
   "outputs": [
    {
     "name": "stdout",
     "output_type": "stream",
     "text": [
      "For Age enter SuperSeniorCitizen:0, SeniorCitizen:1, MiddleAged:2, Youth:3, Teen:4\n",
      "For Gender enter Male:0, Female:1\n",
      "For Family History enter Yes:1, No:0\n",
      "For Diet enter High:0, Medium:1\n",
      "for LifeStyle enter Athlete:0, Active:1, Moderate:2, Sedentary:3\n",
      "for Cholesterol enter High:0, BorderLine:1, Normal:2\n"
     ]
    }
   ],
   "source": [
    "print('For Age enter SuperSeniorCitizen:0, SeniorCitizen:1, MiddleAged:2, Youth:3, Teen:4')\n",
    "print('For Gender enter Male:0, Female:1')\n",
    "print('For Family History enter Yes:1, No:0')\n",
    "print('For Diet enter High:0, Medium:1')\n",
    "print('for LifeStyle enter Athlete:0, Active:1, Moderate:2, Sedentary:3')\n",
    "print('for Cholesterol enter High:0, BorderLine:1, Normal:2')"
   ]
  },
  {
   "cell_type": "code",
   "execution_count": 22,
   "id": "c1eb3255",
   "metadata": {},
   "outputs": [
    {
     "name": "stdout",
     "output_type": "stream",
     "text": [
      "Enter Age: 2\n",
      "Enter Gender: 0\n",
      "Enter Family History: 1\n",
      "Enter Diet: 0\n",
      "Enter Lifestyle: 2\n",
      "Enter Cholestrol: 1\n"
     ]
    },
    {
     "name": "stderr",
     "output_type": "stream",
     "text": [
      "WARNING:pgmpy:BayesianModel has been renamed to BayesianNetwork. Please use BayesianNetwork class, BayesianModel will be removed in future.\n",
      "WARNING:pgmpy:BayesianModel has been renamed to BayesianNetwork. Please use BayesianNetwork class, BayesianModel will be removed in future.\n"
     ]
    },
    {
     "name": "stdout",
     "output_type": "stream",
     "text": [
      "+-----------------+---------------------+\n",
      "| heartdisease    |   phi(heartdisease) |\n",
      "+=================+=====================+\n",
      "| heartdisease(0) |              1.0000 |\n",
      "+-----------------+---------------------+\n",
      "| heartdisease(1) |              0.0000 |\n",
      "+-----------------+---------------------+\n"
     ]
    }
   ],
   "source": [
    "q = HeartDisease_infer.query(variables=['heartdisease'], evidence={\n",
    "    'age': int(input('Enter Age: ')),\n",
    "    'Gender': int(input('Enter Gender: ')),\n",
    "    'Family': int(input('Enter Family History: ')),\n",
    "    'diet': int(input('Enter Diet: ')),\n",
    "    'Lifestyle': int(input('Enter Lifestyle: ')),\n",
    "    'cholestrol': int(input('Enter Cholestrol: '))\n",
    "})\n",
    "print(q)"
   ]
  },
  {
   "cell_type": "code",
   "execution_count": null,
   "id": "24aef9bf",
   "metadata": {},
   "outputs": [],
   "source": []
  }
 ],
 "metadata": {
  "kernelspec": {
   "display_name": "Python 3 (ipykernel)",
   "language": "python",
   "name": "python3"
  },
  "language_info": {
   "codemirror_mode": {
    "name": "ipython",
    "version": 3
   },
   "file_extension": ".py",
   "mimetype": "text/x-python",
   "name": "python",
   "nbconvert_exporter": "python",
   "pygments_lexer": "ipython3",
   "version": "3.11.7"
  }
 },
 "nbformat": 4,
 "nbformat_minor": 5
}
